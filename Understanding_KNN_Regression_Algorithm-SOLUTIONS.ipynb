{
 "cells": [
  {
   "cell_type": "code",
   "execution_count": null,
   "id": "8631839c-7ebd-4da8-98e1-81113a95f693",
   "metadata": {},
   "outputs": [],
   "source": [
    "import pandas as pd\n",
    "import numpy as np\n",
    "import matplotlib.pyplot as plt"
   ]
  },
  {
   "cell_type": "markdown",
   "id": "c5d9a68b-9d27-45d4-9239-46857acb7412",
   "metadata": {},
   "source": [
    "# KNN-Regression\n",
    "\n",
    "The goal of this notebook is to help you understand how the KNN algorithm for regression works.\n",
    "\n",
    "The KNN regression algorithm relies on the proximity of data points in the feature space to make predictions. It assumes that points with similar features in the predictor space will have similar response values. \n",
    "\n",
    "The main idea is to first chop the *predictor* space into chunks.\n",
    "+ For each chunk in the predictor space:\n",
    "    + find the k-nearest points in your data set.\n",
    "    + Aggregate the values of the *response* for those k-nearest points to generate a *predicted value*. This could be a *mean*, a *weighted mean*, a *median* or something similar\n",
    "\n",
    "\n",
    "Let's try this out with simple 2D examples. In the 2D case we have *predictor* `sqft` that we want to use to predict the value for *response* variable `price`."
   ]
  },
  {
   "cell_type": "markdown",
   "id": "7756a0a7-2228-431c-8faa-e4498555b90d",
   "metadata": {},
   "source": [
    "## Choose a Data Set\n",
    "\n",
    "Pick out one data set to work with.\n",
    "\n",
    "+ Linear Relationship\n",
    "+ Quadratic Relationship\n",
    "+ Sin(x) Relationship"
   ]
  },
  {
   "cell_type": "code",
   "execution_count": null,
   "id": "00e2dcdb-3138-4a44-ad72-3d76781e9b2c",
   "metadata": {},
   "outputs": [],
   "source": [
    "pd.options.display.float_format = '{:.2f}'.format"
   ]
  },
  {
   "cell_type": "code",
   "execution_count": null,
   "id": "775cbd04-0a68-4b94-9838-8023e690c90a",
   "metadata": {},
   "outputs": [],
   "source": [
    "# Linear\n",
    "\n",
    "# Generate square footage values from 800 to 4000\n",
    "sqft = np.linspace(800, 4000, num=100)\n",
    "# Generate corresponding prices with a quadratic relationship\n",
    "price = 80000 + 100 * (sqft - 800)\n",
    "\n",
    "# Add some random noise to make it more realistic\n",
    "noise_level = 15000\n",
    "price += np.random.normal(0, noise_level, size=len(price))\n",
    "\n",
    "dict = {'price':price, 'sqft':sqft}\n",
    "\n",
    "df_linear = pd.DataFrame(dict)\n",
    "df_linear.plot.scatter(x='sqft',y='price')\n",
    "plt.ticklabel_format(style='plain', axis='y')\n",
    "\n"
   ]
  },
  {
   "cell_type": "code",
   "execution_count": null,
   "id": "576fd101-7f2c-4cf2-9713-8a33c82588db",
   "metadata": {},
   "outputs": [],
   "source": [
    "# Quadratic\n",
    "\n",
    "# Generate square footage values from 800 to 4000\n",
    "sqft = np.linspace(800, 4000, num=100)\n",
    "\n",
    "# Generate a non-linear relationship for price\n",
    "price = 80000 + 0.1 * (sqft - 800) ** 2 + np.random.normal(0, 15000, size=len(sqft))\n",
    "\n",
    "# Ensure that prices are reasonable\n",
    "price = np.maximum(price, 80000)  # Set a minimum price\n",
    "\n",
    "# Create a DataFrame\n",
    "data = {'price': price, 'sqft': sqft}\n",
    "df_quadratic = pd.DataFrame(data)\n",
    "df_quadratic.plot.scatter(x='sqft',y='price')\n",
    "plt.ticklabel_format(style='plain', axis='y')"
   ]
  },
  {
   "cell_type": "code",
   "execution_count": null,
   "id": "4c1cf839-44df-4476-add3-2aa17c6f8c44",
   "metadata": {},
   "outputs": [],
   "source": [
    "# Sin(x) example\n",
    "# Generate square footage values from 800 to 4000\n",
    "sqft = np.linspace(800, 4000, num=100)\n",
    "\n",
    "# Generate a non-linear relationship for price using a sine function\n",
    "periodic_factor = 2 * np.pi / 1000  # Adjust this to complete a full period every 1000 sqft\n",
    "price_amplitude = 30000  # Adjust this to control the amplitude of the sine wave\n",
    "price = 80000 + price_amplitude * np.sin(periodic_factor * sqft) + np.random.normal(0, 5000, size=len(sqft))\n",
    "\n",
    "# Create a DataFrame\n",
    "data = {'price': price, 'sqft': sqft}\n",
    "df_sin = pd.DataFrame(data)\n",
    "\n",
    "# Plot the scatter plot\n",
    "plt.figure(figsize=(8, 6))\n",
    "df_sin.plot.scatter(x='sqft', y='price')\n",
    "plt.xlabel('Square Footage (sqft)')\n",
    "plt.ylabel('Price')\n",
    "plt.title('Sinusoidal Relationship between Square Footage and Price')\n",
    "\n",
    "# Disable scientific notation on the y-axis\n",
    "plt.ticklabel_format(style='plain', axis='y')\n"
   ]
  },
  {
   "cell_type": "code",
   "execution_count": null,
   "id": "17600ef2-d3a0-4f19-9237-d9e8db337011",
   "metadata": {},
   "outputs": [],
   "source": [
    "# Set the dataframe for the rest of the notebook.\n",
    "df = df_linear"
   ]
  },
  {
   "cell_type": "markdown",
   "id": "40e6be90-145b-4fef-ac49-22dae9418bfb",
   "metadata": {},
   "source": [
    "### The Goal of KNN\n",
    "\n",
    "The **goal** is to find a **line-of-best-fit** through these data points."
   ]
  },
  {
   "cell_type": "markdown",
   "id": "62ee81e2-82d8-4af7-b7dd-0f67cd8fa2f8",
   "metadata": {},
   "source": [
    "### KNN - Regression Algorithm\n",
    "\n",
    "Given a `sqft` where we want to make a prediction, we:\n",
    "\n",
    "1. Calculate the distance between the new data point and all known data points in the dataset.\n",
    "2. Select the *k* closest datapoints.\n",
    "3. Average the target variable for the *k* closest data points.\n",
    "\n",
    "There are many ways to measure the *distance* between dimensions. For this example, let's use the formula for *Euclidean Distance* with 1-dimension (which simplifies to absolute difference, but no worries): \n",
    "\n",
    "$dist(x_1, x_2) = \\sqrt(x_1 - x_2)^2$\n",
    "\n",
    "#### Euclidean Distance Pros & Cons\n",
    "Pros: \n",
    "- Easy to understand (straight line distance between Euclidean Space)\n",
    "- Works with 1 or more dimensions\n",
    "\n",
    "Cons:\n",
    "- Sensitive to Scaling - Features not in the same units can skew the result\n",
    "- Suffers from the curse of dimensionality\n",
    "- Doesn't account for covariance (how much variables change together).  Sometimes, other distance measures, such as Mahalanobis distance, may be more appropriate."
   ]
  },
  {
   "cell_type": "code",
   "execution_count": null,
   "id": "224430ba-99a2-42a6-b0e4-1d49ad256035",
   "metadata": {},
   "outputs": [],
   "source": [
    "# Create helper function\n",
    "\n",
    "def euclidean_distance_x(x_target, x_actual):\n",
    "    return np.sqrt((x_target-x_actual)**2)\n",
    "\n",
    "# Test it\n",
    "euclidean_distance_x(x_target = np.array([1500]), x_actual = np.array([1700,1000]))"
   ]
  },
  {
   "cell_type": "markdown",
   "id": "3226b161-b43d-407f-bd28-ec9cbaeb9803",
   "metadata": {},
   "source": [
    "Now we can create a function for our algorithm:\n",
    "\n",
    "1. We need to pass our data `df`, a value `k` indicating how many neighbors we want to consider, and the `x`-value that we want to make a prediction at\n",
    "1. Calculate the distance from `x` to every `x-value` in the data\n",
    "1. Get the closest `k` of these points\n",
    "1. aggregate the response value `y` for the closest `k` points, this is our prediction\n",
    "    \n"
   ]
  },
  {
   "cell_type": "code",
   "execution_count": null,
   "id": "8ad2c192-b412-49ea-922e-caeb701f4439",
   "metadata": {},
   "outputs": [],
   "source": [
    "def knn_2d_specific_x(df, k, sqft, visualize=False):\n",
    "    \n",
    "    \"\"\"\n",
    "    To demonstrate how the KNN algorithm produces a prediction in a 2D case\n",
    "    \n",
    "    Input:\n",
    "    \n",
    "        df - DataFrame with x, y columns\n",
    "        k  - number of neighbors to consider\n",
    "        x_pt - value of x where we want to make prediction\n",
    "    \n",
    "    Output:\n",
    "        Prediction \n",
    "    \"\"\"\n",
    "        \n",
    "    df_temp = df.copy()\n",
    "    df_temp['distance'] = euclidean_distance_x(np.array(sqft), df_temp.sqft)\n",
    "    y_pred = df_temp.loc[df_temp.distance.nsmallest(k).index].price.mean()\n",
    "    df_knn = df_temp.loc[df_temp.distance.nsmallest(k).index]\n",
    "             \n",
    "    # Visualize\n",
    "    if visualize:\n",
    "        prediction = pd.DataFrame({'sqft':sqft, 'y':y_pred}, index=['0'])\n",
    "        figure, axes = plt.subplots(1,1,figsize=(10,10))\n",
    "        axes.axvline(sqft, color='lightgrey', linestyle='dashed')\n",
    "        axes.scatter(df.sqft,df.price, color='lightblue')\n",
    "        axes.scatter(df_knn.sqft,df_knn.price, color='red', label = f'Nearest {k} Neighbors to X={sqft}')\n",
    "        axes.scatter(\n",
    "            prediction.sqft,\n",
    "            prediction.y, \n",
    "            color='black', \n",
    "            marker='x', \n",
    "            s = 75,\n",
    "            label = f'Prediction = Mean of {k}-Nearest Neighbors'\n",
    "        )\n",
    "        axes.set_title(\n",
    "            f'Making a prediction at x={sqft}\\nUsing the Nearest k={k} Neighbors',\n",
    "            fontsize=20)\n",
    "        axes.legend()\n",
    "        \n",
    "    return y_pred\n",
    "    "
   ]
  },
  {
   "cell_type": "code",
   "execution_count": null,
   "id": "4d90907e-3908-4412-9d54-33afcd0c0816",
   "metadata": {},
   "outputs": [],
   "source": [
    "# Test the function\n",
    "knn_2d_specific_x(df, k=10, sqft=2500, visualize=True)"
   ]
  },
  {
   "cell_type": "markdown",
   "id": "906adffd-096f-42bf-bf26-f735d3d6cb22",
   "metadata": {},
   "source": [
    "---\n",
    "\n",
    "We can try out our function on our randomly generated data and different values of `k`."
   ]
  },
  {
   "cell_type": "code",
   "execution_count": null,
   "id": "f86c9aed-9975-4600-9138-cce9e9720c9f",
   "metadata": {},
   "outputs": [],
   "source": [
    "# for x in range(1000,2000,100):\n",
    "#     knn_2d_specific_x(df, k=5, sqft=x, visualize=True)"
   ]
  },
  {
   "cell_type": "markdown",
   "id": "ef02c8e5-0987-4201-809b-cb2ad9acd6cc",
   "metadata": {},
   "source": [
    "## Apply Your Prediction Function to Entire DataFrame\n",
    "\n",
    "We can run our algorithm over all points in our data and then assess the *model fit*.\n",
    "\n",
    "In the code cell below, we calculate a new column `predictions_k5` by using the `apply()` method to *apply* the `knn_2d_specific_x()` function over all `x` in the data. "
   ]
  },
  {
   "cell_type": "code",
   "execution_count": null,
   "id": "295fc94c-f24f-409a-b1e6-0d83ef5bcec1",
   "metadata": {},
   "outputs": [],
   "source": [
    "# code to apply the knn_2d_specific_x() function to each x in df\n",
    "df['predictions_k5'] = df.apply(\n",
    "    lambda row: knn_2d_specific_x(\n",
    "        df, \n",
    "        k=5, \n",
    "        sqft=row['sqft'], \n",
    "        visualize=False),\n",
    "    axis=1\n",
    ")\n",
    "df.head()                         "
   ]
  },
  {
   "cell_type": "markdown",
   "id": "153c76fd-9285-4a19-a953-025f14957159",
   "metadata": {},
   "source": [
    "## Visualize Your Predictions\n",
    "\n",
    "Now that you can make a prediction for every x-value in the data, create a plot!\n",
    "\n",
    "+ Plot the `predictions` as a line\n",
    "+ Plot the original data as a scatterplot"
   ]
  },
  {
   "cell_type": "code",
   "execution_count": null,
   "id": "bf066695-19d6-4977-a362-79bb4207be74",
   "metadata": {},
   "outputs": [],
   "source": [
    "fig,ax = plt.subplots(1,1,figsize=(10,10))\n",
    "\n",
    "ax.scatter(df.sqft, df.price)\n",
    "ax.plot(df.sqft, df.predictions_k5)\n",
    "ax.set_title('KNN Model Fit for k = 5', fontsize=15)"
   ]
  },
  {
   "cell_type": "markdown",
   "id": "c13a138f-74bb-423b-95a9-4d0e51f5b3ae",
   "metadata": {},
   "source": [
    "## Find the Optimal Value of k\n",
    "\n",
    "How do we determine which value of `k` is best?\n",
    "\n",
    "We can calculate various functions of the data that might help us to compare predictions across models.\n",
    "\n",
    "Here we will use **root mean squared prediction error (RMSPE)** = $\\sqrt{\\sum_{i=1}^n(\\hat{y_i} - y_i)^2}$ \n",
    "\n",
    "+ Calculate Residual = Total Actual Value - Predicted Value\n",
    "+ Square the Residuals\n",
    "+ Sum the Squared Residuals\n",
    "+ Take the square root\n"
   ]
  },
  {
   "cell_type": "markdown",
   "id": "993da73f-df9f-4e30-9c77-29ceff7b91f7",
   "metadata": {},
   "source": [
    "Now that you can calculate the `RMSPE` for a single value of `k`, calculate this quantity for a variety of `k` and then create a plot with `k` on the x-axis and `RMSPE` on the y-axis. This plot will help you to determine a value of `k` that is *optimal*."
   ]
  },
  {
   "cell_type": "code",
   "execution_count": null,
   "id": "3a2d563f-b19c-4f5f-a739-9d8f47502d19",
   "metadata": {},
   "outputs": [],
   "source": [
    "# Create new DataFrame containing two columns, k and rmspe\n",
    "# Try k = 2, 5, 10, 15, 20\n",
    "\n",
    "def get_preds_for_multiple_k(ks):\n",
    "\n",
    "    for k in ks:\n",
    "        \n",
    "        # Create new column of predictions\n",
    "        df[f'predictions_k{k}'] = df.apply(\n",
    "            lambda row: knn_2d_specific_x(\n",
    "                df, \n",
    "                k=k, \n",
    "                sqft=row['sqft'], \n",
    "                visualize=False),\n",
    "            axis=1\n",
    "        )\n",
    "        \n",
    "def get_residual(k):\n",
    "    \n",
    "    df[f'residuals_k{k}']= df['price'] - df[f'predictions_k{k}']\n",
    "    return df\n",
    "    \n",
    "def calculate_rmspe(ks):\n",
    "    rmspe = []\n",
    "    for k in ks:\n",
    "        model_data = get_residual(k)\n",
    "        rmspe.append(np.sqrt((model_data[f'residuals_k{k}']**2).mean()))\n",
    "        \n",
    "    return pd.DataFrame(zip(ks, rmspe), columns=['k','rmspe'])\n"
   ]
  },
  {
   "cell_type": "code",
   "execution_count": null,
   "id": "6686d746-3473-4af4-aac9-82ce48349257",
   "metadata": {},
   "outputs": [],
   "source": [
    "# Use functions\n",
    "\n",
    "ks = [i for i in range(1,20,1)]\n",
    "get_preds_for_multiple_k(ks)\n",
    "rmspe = calculate_rmspe(ks)"
   ]
  },
  {
   "cell_type": "code",
   "execution_count": null,
   "id": "6fc1064d-1ac4-41bd-a221-372398e883bc",
   "metadata": {},
   "outputs": [],
   "source": [
    "# Create plot\n",
    "\n",
    "fig, ax = plt.subplots(1,1, figsize=(10,10))\n",
    "ax.plot(rmspe.k, rmspe.rmspe)\n",
    "ax.scatter(rmspe.k, rmspe.rmspe,c='black')\n",
    "ax.set_xlabel('k = # nearest neighbors')\n",
    "ax.set_ylabel('RMSPE')\n",
    "ax.set_title('Elbow Plot - Which Value of k Minimizes the RMSPE?')"
   ]
  },
  {
   "cell_type": "markdown",
   "id": "56bd7c5b-ba85-4bf7-8394-e60fe37b4db2",
   "metadata": {},
   "source": [
    "---\n",
    "\n",
    "One cool thing about KNN is that it is very flexible. Try re-running the notebook with a different data set at the top!"
   ]
  },
  {
   "cell_type": "markdown",
   "id": "2b2f536d-a3ca-4070-afbf-1ea07edcbb49",
   "metadata": {},
   "source": [
    "## What is to come for Data Science students?\n",
    "\n",
    "Of course all of these algorithms have been implemented. The `sklearn` library contains many common machine learning models that all have a similar API. However, you are NOT allowed to use this for you final project. I am including it here as a teaser for future courses.\n",
    "\n",
    "There is usually:\n",
    "\n",
    "1. A call to a constructor to make a machine learning model object. `neigh = KNeighborsRegressor(n_neighbors=k)`\n",
    "1. A fit method call where you pass your data `X` and target `y`. `neigh.fit(X, y)`\n",
    "1. A predict method call where you pass the values where you want to predict. `neigh.predict(X)`"
   ]
  },
  {
   "cell_type": "code",
   "execution_count": null,
   "id": "6fb0faa5-f1ac-4d13-82d7-ff6aca45963f",
   "metadata": {},
   "outputs": [],
   "source": [
    "# Import necessary libraries\n",
    "\n",
    "from sklearn.neighbors import KNeighborsRegressor\n",
    "from sklearn.metrics import mean_squared_error"
   ]
  },
  {
   "cell_type": "code",
   "execution_count": null,
   "id": "a488e156-a8bb-4913-a01f-aaf0ebb12369",
   "metadata": {},
   "outputs": [],
   "source": [
    "def fit_knn_sklearn(df, k, visualize=True):\n",
    "\n",
    "    neigh = KNeighborsRegressor(n_neighbors=k)\n",
    "    neigh.fit(X=df[['sqft']], y=df.price)\n",
    "    df[f'predictions_k{k}'] = neigh.predict(df[['sqft']]) \n",
    "    \n",
    "    RMSE = round(np.sqrt(mean_squared_error(df.price, df[f'predictions_k{k}'])), 4)\n",
    "\n",
    "    if visualize:\n",
    "        \n",
    "        figure, axes = plt.subplots(1,1,figsize=(10,10))\n",
    "\n",
    "        axes.scatter(\n",
    "            df.sqft,\n",
    "            df.price, \n",
    "            color='lightblue',\n",
    "            label='Data')\n",
    "\n",
    "        axes. plot(\n",
    "            df['sqft'], \n",
    "            df[f'predictions_k{k}'],\n",
    "            color='black',\n",
    "            label='Predicted Values')\n",
    "\n",
    "        axes.set_title(\n",
    "            f'Prediction Line\\nUsing the Nearest k={k}',\n",
    "            fontsize=20)\n",
    "        axes.legend()\n",
    "    \n",
    "    return RMSE"
   ]
  },
  {
   "cell_type": "code",
   "execution_count": null,
   "id": "1c1ab594-13f4-42fa-98fb-790c5fc53b23",
   "metadata": {},
   "outputs": [],
   "source": [
    "# Try different k-values and look for optimal \n",
    "\n",
    "ks = [i for i in range(2,30)]\n",
    "rmse = []\n",
    "for k in ks:\n",
    "    rmse.append(fit_knn_sklearn(df, k, visualize=False))\n",
    "   \n",
    "fig, ax = plt.subplots(1,1, figsize=(10,10))\n",
    "ax.scatter(ks, rmse)"
   ]
  },
  {
   "cell_type": "code",
   "execution_count": null,
   "id": "14d42537-cfc2-4bc0-b6cc-29a49351a54c",
   "metadata": {},
   "outputs": [],
   "source": [
    "fit_knn_sklearn(df, k=2)"
   ]
  },
  {
   "cell_type": "code",
   "execution_count": null,
   "id": "e69d3c1f-9bb6-4bce-ac73-62a81961ae1b",
   "metadata": {},
   "outputs": [],
   "source": [
    "predictions = fit_knn_sklearn(df, k=5)"
   ]
  },
  {
   "cell_type": "code",
   "execution_count": null,
   "id": "b556000c-365d-46fb-a66a-3f57ba357734",
   "metadata": {},
   "outputs": [],
   "source": [
    "predictions = fit_knn_sklearn(df, k=10)"
   ]
  },
  {
   "cell_type": "code",
   "execution_count": null,
   "id": "bb79c9a0-9aad-4307-ba84-62e263462b4f",
   "metadata": {},
   "outputs": [],
   "source": [
    "predictions = fit_knn_sklearn(df, k=20)"
   ]
  }
 ],
 "metadata": {
  "kernelspec": {
   "display_name": "Python 3 (ipykernel)",
   "language": "python",
   "name": "python3"
  },
  "language_info": {
   "codemirror_mode": {
    "name": "ipython",
    "version": 3
   },
   "file_extension": ".py",
   "mimetype": "text/x-python",
   "name": "python",
   "nbconvert_exporter": "python",
   "pygments_lexer": "ipython3",
   "version": "3.11.4"
  }
 },
 "nbformat": 4,
 "nbformat_minor": 5
}
